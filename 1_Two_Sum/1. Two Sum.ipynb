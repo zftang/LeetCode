{
 "cells": [
  {
   "cell_type": "markdown",
   "metadata": {},
   "source": [
    "# 1. Two Sum"
   ]
  },
  {
   "cell_type": "markdown",
   "metadata": {},
   "source": [
    "### Description\n",
    "Given an array of integers, return indices of the two numbers such that they add up to a specific target.\n",
    "\n",
    "You may assume that each input would have **exactly one solution**, and you may not use the same element twice.\n"
   ]
  },
  {
   "cell_type": "markdown",
   "metadata": {},
   "source": [
    "### Example：\n",
    "> ```\n",
    "> Given nums = [2, 7, 11, 15], target = 9,\n",
    ">\n",
    "> Because nums[0] + nums[1] = 2 + 7 = 9,\n",
    "> return [0, 1].\n",
    "> ```"
   ]
  },
  {
   "cell_type": "markdown",
   "metadata": {},
   "source": [
    "----"
   ]
  },
  {
   "cell_type": "code",
   "execution_count": 92,
   "metadata": {
    "collapsed": true
   },
   "outputs": [],
   "source": [
    "import time"
   ]
  },
  {
   "cell_type": "code",
   "execution_count": 141,
   "metadata": {
    "collapsed": true
   },
   "outputs": [],
   "source": [
    "class Solution(object):\n",
    " \n",
    "    # O(n^2)\n",
    "    # use the for loop two times\n",
    "    def TwoSum_v1(self, nums, target):\n",
    "        if len(nums) <= 1:\n",
    "            return 'Error nums!'\n",
    "\n",
    "        for i in range(len(nums)):\n",
    "            value_i = nums[i]\n",
    "\n",
    "            for j in range(i+1,len(nums),1):\n",
    "                value_j = nums[j]\n",
    "\n",
    "                if (value_i + value_j == target):\n",
    "                    return [i,j]\n",
    "                \n",
    "                \n",
    "    # O(n)          \n",
    "    def TwoSum_list(self, nums, target):\n",
    "        if len(nums) <= 1:\n",
    "            return 'Error nums!'\n",
    "        \n",
    "        list_tmp = []\n",
    "        \n",
    "        for indx in range(len(nums)):\n",
    "            \n",
    "            if nums[indx] in list_tmp:\n",
    "                return [list_tmp.index(nums[indx]), indx]\n",
    "            else:\n",
    "                list_tmp.append(target-nums[indx])\n",
    "        \n",
    "        \n",
    "        \n",
    "    # O(n) \n",
    "    def TwoSum_dict(self, nums, target):\n",
    "        if len(nums) <= 1:\n",
    "            return 'Error Number'\n",
    "        buff_dict = {}\n",
    "        for i in range(len(nums)):\n",
    "\n",
    "            #print(i, '|',buff_dict)\n",
    "\n",
    "            if nums[i] in buff_dict:\n",
    "                return [  buff_dict[nums[i]]  , i  ]\n",
    "            else:\n",
    "                buff_dict[target - nums[i]] = i     \n",
    "                \n",
    " "
   ]
  },
  {
   "cell_type": "markdown",
   "metadata": {},
   "source": [
    "-----\n",
    "### Test :"
   ]
  },
  {
   "cell_type": "code",
   "execution_count": 162,
   "metadata": {},
   "outputs": [
    {
     "name": "stdout",
     "output_type": "stream",
     "text": [
      "[2, 6]\n",
      "Time used: 0.0001469999999983429\n",
      "[2, 6]\n",
      "Time used: 4.500000000007276e-05\n",
      "[2, 6]\n",
      "Time used: 0.00010699999999985721\n"
     ]
    }
   ],
   "source": [
    "if __name__ == '__main__':\n",
    "    nums = [3,4,5,10,11,23,1]\n",
    "    target = 6\n",
    "    \n",
    "    #--------------\n",
    "    start = time.clock()\n",
    "    \n",
    "    sln = Solution()\n",
    "    print(sln.TwoSum_v1(nums, target))\n",
    "    \n",
    "    elapsed = (time.clock() - start)\n",
    "    print(\"Time used:\",elapsed)\n",
    "\n",
    "    #--------------\n",
    "    start = time.clock()\n",
    "    \n",
    "    sln = Solution()\n",
    "    print(sln.TwoSum_list(nums, target))\n",
    "    \n",
    "    elapsed = (time.clock() - start)\n",
    "    print(\"Time used:\",elapsed)    \n",
    "    \n",
    "    \n",
    "    #--------------\n",
    "    start = time.clock()\n",
    "    \n",
    "    sln = Solution()\n",
    "    print(sln.TwoSum_dict(nums, target))\n",
    "    \n",
    "    elapsed = (time.clock() - start)\n",
    "    print(\"Time used:\",elapsed)"
   ]
  },
  {
   "cell_type": "code",
   "execution_count": null,
   "metadata": {
    "collapsed": true
   },
   "outputs": [],
   "source": []
  }
 ],
 "metadata": {
  "kernelspec": {
   "display_name": "Python 3",
   "language": "python",
   "name": "python3"
  },
  "language_info": {
   "codemirror_mode": {
    "name": "ipython",
    "version": 3
   },
   "file_extension": ".py",
   "mimetype": "text/x-python",
   "name": "python",
   "nbconvert_exporter": "python",
   "pygments_lexer": "ipython3",
   "version": "3.6.2"
  }
 },
 "nbformat": 4,
 "nbformat_minor": 2
}
