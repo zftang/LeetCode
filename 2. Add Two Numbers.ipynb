{
 "cells": [
  {
   "cell_type": "markdown",
   "metadata": {},
   "source": [
    "# 2. Add Two Numbers"
   ]
  },
  {
   "cell_type": "markdown",
   "metadata": {},
   "source": [
    "### Description\n",
    "You are given two non-empty linked lists representing two non-negative integers. The digits are stored in reverse order and each of their nodes contain a single digit. Add the two numbers and return it as a linked list.\n",
    "\n",
    "You may assume the two numbers do not contain any leading zero, except the number 0 itself."
   ]
  },
  {
   "cell_type": "markdown",
   "metadata": {},
   "source": [
    "### Example：\n",
    "> ```\n",
    ">Input: (2 -> 4 -> 3) + (5 -> 6 -> 4)\n",
    ">Output: 7 -> 0 -> 8\n",
    ">Explanation: 342 + 465 = 807.\n",
    "> ```"
   ]
  },
  {
   "cell_type": "markdown",
   "metadata": {},
   "source": [
    "----"
   ]
  },
  {
   "cell_type": "code",
   "execution_count": 315,
   "metadata": {
    "collapsed": true
   },
   "outputs": [],
   "source": [
    "import time"
   ]
  },
  {
   "cell_type": "code",
   "execution_count": 316,
   "metadata": {},
   "outputs": [
    {
     "name": "stdout",
     "output_type": "stream",
     "text": [
      "None\n",
      "hi\n"
     ]
    }
   ],
   "source": [
    "# Definition for singly-linked list.\n",
    "class ListNode(object):\n",
    "    def __init__(self, x):\n",
    "        self.val = x\n",
    "        self.next = None\n",
    "        \n",
    "l1 = ListNode(2)\n",
    "l1.next = ListNode(4)\n",
    "l1.next.next = ListNode(3)\n",
    "l1.next.next.next = ListNode(9)\n",
    "\n",
    "l2 = ListNode(5)\n",
    "l2.next = ListNode(6)\n",
    "l2.next.next = ListNode(4)\n",
    "\n",
    "print(l2.next.next.next)\n",
    "\n",
    "l3 = l2.next\n",
    "l3.next.next\n",
    "if 2:\n",
    "    print('hi')"
   ]
  },
  {
   "cell_type": "code",
   "execution_count": 324,
   "metadata": {},
   "outputs": [
    {
     "data": {
      "text/plain": [
       "[2, 4, 3, 9]"
      ]
     },
     "execution_count": 324,
     "metadata": {},
     "output_type": "execute_result"
    }
   ],
   "source": [
    "def showChainList(chain_list):\n",
    "    list_arr = []\n",
    "    while chain_list.next :\n",
    "        list_arr.append(chain_list.val)\n",
    "        chain_list = chain_list.next\n",
    "    list_arr.append(chain_list.val)\n",
    "    return list_arr\n",
    "showChainList(l1)"
   ]
  },
  {
   "cell_type": "code",
   "execution_count": 346,
   "metadata": {},
   "outputs": [],
   "source": [
    "class Solution(object):\n",
    "    def addTwoNumbers(self, l1, l2):\n",
    "        \n",
    "        tmp = ListNode(0) \n",
    "        l_result = tmp\n",
    "        dummy = tmp\n",
    "\n",
    " \n",
    "        \n",
    "#       dummy = l_result = ListNode(0)   # ??? what does dummy mean  # python's Chained Assignment \n",
    "        carry_bit = 0\n",
    "        while l1 or l2 or carry_bit:\n",
    " \n",
    "            if l1:\n",
    "                carry_bit += l1.val\n",
    "                l1 = l1.next\n",
    "            if l2:\n",
    "                carry_bit += l2.val\n",
    "                l2 = l2.next\n",
    " \n",
    "            # get the remainder, and carry bit if necessary\n",
    "            l_result.next = ListNode(carry_bit%10)\n",
    "            \n",
    "            print(showChainList(tmp),'tmp_pre')\n",
    "            print(showChainList(l_result),'l_result_pre')   \n",
    "            print(showChainList(dummy),'dummy_pre')\n",
    "            print('------------')            \n",
    "            l_result = l_result.next\n",
    "            carry_bit = carry_bit // 10\n",
    "            \n",
    "            print(showChainList(tmp),'tmp')\n",
    "            print(showChainList(l_result),'l_result')\n",
    "            print(showChainList(dummy),'dummy')\n",
    "            print('------------')\n",
    "            \n",
    "        return dummy.next\n",
    "                \n",
    " \n",
    "\n",
    "    # from leetcode \n",
    "    def addTwoNumbers2(self, l1, l2):\n",
    "        \"\"\"\n",
    "        :type l1: ListNode\n",
    "        :type l2: ListNode\n",
    "        :rtype: ListNode\n",
    "        \"\"\"\n",
    "        dummy = ListNode(0)\n",
    "        dummy.next = l1\n",
    "\n",
    "        curr1 = l1\n",
    "        curr2 = l2\n",
    "        while curr1 is not None and curr2 is not None:\n",
    "            tmp_sum = curr1.val + curr2.val\n",
    "            if tmp_sum < 10:\n",
    "                curr1.val = tmp_sum\n",
    "            else:\n",
    "                curr1.val = tmp_sum % 10\n",
    "                if curr1.next is not None:\n",
    "                    curr1.next.val += tmp_sum // 10\n",
    "                else:\n",
    "                    curr1.next = ListNode(tmp_sum // 10)\n",
    "\n",
    "            prev_curr1 = curr1\n",
    "            curr1 = curr1.next\n",
    "            curr2 = curr2.next\n",
    "\n",
    "        if curr1 is not None and curr2 is None:\n",
    "            while curr1 is not None and curr1.val >= 10:\n",
    "                if curr1.next is not None:\n",
    "                    curr1.next.val += curr1.val // 10\n",
    "                else:\n",
    "                    curr1.next = ListNode(curr1.val // 10)\n",
    "                    \n",
    "                curr1.val = curr1.val % 10\n",
    "                curr1 = curr1.next\n",
    "        if curr1 is None and curr2 is not None:\n",
    "            prev_curr1.next = curr2\n",
    "\n",
    "        return dummy.next"
   ]
  },
  {
   "cell_type": "markdown",
   "metadata": {},
   "source": [
    "-----\n",
    "### Test :"
   ]
  },
  {
   "cell_type": "code",
   "execution_count": 347,
   "metadata": {},
   "outputs": [
    {
     "name": "stdout",
     "output_type": "stream",
     "text": [
      "[0, 7] tmp_pre\n",
      "[0, 7] l_result_pre\n",
      "[0, 7] dummy_pre\n",
      "------------\n",
      "[0, 7] tmp\n",
      "[7] l_result\n",
      "[0, 7] dummy\n",
      "------------\n",
      "[0, 7, 0] tmp_pre\n",
      "[7, 0] l_result_pre\n",
      "[0, 7, 0] dummy_pre\n",
      "------------\n",
      "[0, 7, 0] tmp\n",
      "[0] l_result\n",
      "[0, 7, 0] dummy\n",
      "------------\n",
      "[0, 7, 0, 8] tmp_pre\n",
      "[0, 8] l_result_pre\n",
      "[0, 7, 0, 8] dummy_pre\n",
      "------------\n",
      "[0, 7, 0, 8] tmp\n",
      "[8] l_result\n",
      "[0, 7, 0, 8] dummy\n",
      "------------\n",
      "[0, 7, 0, 8, 9] tmp_pre\n",
      "[8, 9] l_result_pre\n",
      "[0, 7, 0, 8, 9] dummy_pre\n",
      "------------\n",
      "[0, 7, 0, 8, 9] tmp\n",
      "[9] l_result\n",
      "[0, 7, 0, 8, 9] dummy\n",
      "------------\n",
      "Time used: 0.006330000000005498\n"
     ]
    }
   ],
   "source": [
    "if __name__ == '__main__':\n",
    " \n",
    "    #--------------\n",
    "    start = time.clock()\n",
    "    \n",
    "    sln = Solution()\n",
    "    l = sln.addTwoNumbers(l1, l2)\n",
    "    \n",
    "    elapsed = (time.clock() - start)\n",
    "    print(\"Time used:\",elapsed)\n",
    "\n",
    "#     #--------------\n",
    "#     start = time.clock()\n",
    "    \n",
    "#     sln = Solution()\n",
    "#     l = sln.addTwoNumbers2(l1, l2)\n",
    "    \n",
    "#     elapsed = (time.clock() - start)\n",
    "#     print(\"Time used:\",elapsed)\n",
    "  "
   ]
  },
  {
   "cell_type": "code",
   "execution_count": 327,
   "metadata": {},
   "outputs": [
    {
     "name": "stdout",
     "output_type": "stream",
     "text": [
      "7\n",
      "0\n",
      "8\n",
      "9\n"
     ]
    }
   ],
   "source": [
    "print(l.val)\n",
    "print(l.next.val)\n",
    "print(l.next.next.val)\n",
    "print(l.next.next.next.val)\n"
   ]
  },
  {
   "cell_type": "code",
   "execution_count": null,
   "metadata": {
    "collapsed": true
   },
   "outputs": [],
   "source": []
  },
  {
   "cell_type": "markdown",
   "metadata": {},
   "source": [
    "Chained Assignment "
   ]
  },
  {
   "cell_type": "code",
   "execution_count": null,
   "metadata": {},
   "outputs": [],
   "source": [
    "def chained_assignment():\n",
    "     x = y = some_function()\n",
    "import dis\n",
    "dis.dis(chained_assignment)\n"
   ]
  },
  {
   "cell_type": "code",
   "execution_count": null,
   "metadata": {
    "collapsed": true
   },
   "outputs": [],
   "source": [
    "?dis"
   ]
  }
 ],
 "metadata": {
  "kernelspec": {
   "display_name": "Python 3",
   "language": "python",
   "name": "python3"
  },
  "language_info": {
   "codemirror_mode": {
    "name": "ipython",
    "version": 3
   },
   "file_extension": ".py",
   "mimetype": "text/x-python",
   "name": "python",
   "nbconvert_exporter": "python",
   "pygments_lexer": "ipython3",
   "version": "3.6.2"
  }
 },
 "nbformat": 4,
 "nbformat_minor": 2
}
