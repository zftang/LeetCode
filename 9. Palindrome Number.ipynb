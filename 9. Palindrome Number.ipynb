{
 "cells": [
  {
   "cell_type": "markdown",
   "metadata": {},
   "source": [
    "# 9. Palindrome Number"
   ]
  },
  {
   "cell_type": "markdown",
   "metadata": {},
   "source": [
    "### Description\n",
    "Determine whether an integer is a palindrome. Do this without extra space.\n"
   ]
  },
  {
   "cell_type": "markdown",
   "metadata": {},
   "source": [
    "### Example：\n",
    "> ```\n",
    "> Input: -123\n",
    "> Output: -321\n",
    "> ```\n",
    "\n",
    "Note:\n",
    "Assume we are dealing with an environment which could only hold integers within the 32-bit signed integer range. For the purpose of this problem, assume that your function returns 0 when the reversed integer overflows."
   ]
  },
  {
   "cell_type": "markdown",
   "metadata": {},
   "source": [
    "----"
   ]
  },
  {
   "cell_type": "code",
   "execution_count": 1,
   "metadata": {
    "collapsed": true
   },
   "outputs": [],
   "source": [
    "import time"
   ]
  },
  {
   "cell_type": "code",
   "execution_count": 24,
   "metadata": {},
   "outputs": [
    {
     "data": {
      "text/plain": [
       "0"
      ]
     },
     "execution_count": 24,
     "metadata": {},
     "output_type": "execute_result"
    }
   ],
   "source": [
    "20%10"
   ]
  },
  {
   "cell_type": "code",
   "execution_count": 25,
   "metadata": {},
   "outputs": [],
   "source": [
    "class Solution(object):\n",
    " \n",
    "    def isPalindrome(self, x):\n",
    "        \"\"\"\n",
    "        :type x: int\n",
    "        :rtype: bool\n",
    "        \"\"\"\n",
    "        if x < 0 or (x%10 ==0 and x!=0):\n",
    "            return False\n",
    "        else:\n",
    "            x_str = str(x)\n",
    "            len_str = len(x_str)\n",
    "            \n",
    "            rtype = True  \n",
    "            for indx in range(0, len_str//2):\n",
    "                if (x_str[indx] != x_str[len_str-indx-1] ):\n",
    "                    rtype = False\n",
    "                    break\n",
    "            return rtype\n",
    "        \n",
    "         \n",
    " "
   ]
  },
  {
   "cell_type": "markdown",
   "metadata": {},
   "source": [
    "-----\n",
    "### Test :"
   ]
  },
  {
   "cell_type": "code",
   "execution_count": 26,
   "metadata": {},
   "outputs": [
    {
     "name": "stdout",
     "output_type": "stream",
     "text": [
      "True\n",
      "Time used: 0.0011200000000000099\n"
     ]
    }
   ],
   "source": [
    "if __name__ == '__main__':\n",
    "    x = 131\n",
    "    #--------------\n",
    "    start = time.clock()\n",
    "    \n",
    "    sln = Solution()\n",
    "    print(sln.isPalindrome(x))\n",
    "    \n",
    "    elapsed = (time.clock() - start)\n",
    "    print(\"Time used:\",elapsed)\n",
    "\n",
    " "
   ]
  },
  {
   "cell_type": "code",
   "execution_count": null,
   "metadata": {
    "collapsed": true
   },
   "outputs": [],
   "source": []
  }
 ],
 "metadata": {
  "kernelspec": {
   "display_name": "Python 3",
   "language": "python",
   "name": "python3"
  },
  "language_info": {
   "codemirror_mode": {
    "name": "ipython",
    "version": 3
   },
   "file_extension": ".py",
   "mimetype": "text/x-python",
   "name": "python",
   "nbconvert_exporter": "python",
   "pygments_lexer": "ipython3",
   "version": "3.6.2"
  }
 },
 "nbformat": 4,
 "nbformat_minor": 2
}
