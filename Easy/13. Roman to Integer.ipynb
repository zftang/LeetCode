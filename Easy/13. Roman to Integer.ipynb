{
 "cells": [
  {
   "cell_type": "markdown",
   "metadata": {},
   "source": [
    "# 13. Roman to Integer"
   ]
  },
  {
   "cell_type": "markdown",
   "metadata": {},
   "source": [
    "### Description\n",
    "Given a roman numeral, convert it to an integer.\n",
    "\n",
    "Input is guaranteed to be within the range from 1 to 3999.\n"
   ]
  },
  {
   "cell_type": "markdown",
   "metadata": {},
   "source": [
    "I - 1\n",
    "V - 5\n",
    "X - 10\n",
    "L - 50\n",
    "C - 100\n",
    "D - 500\n",
    "M - 1000"
   ]
  },
  {
   "cell_type": "markdown",
   "metadata": {},
   "source": [
    "### Rules：\n",
    "\n",
    "https://www.math.nmsu.edu/~pmorandi/math111f01/RomanNumerals.html\n",
    "\n",
    "1. Repeating a numeral up to three times represents addition of the number. For example, III represents 1 + 1 + 1 = 3. Only I, X, C, and M can be repeated; V, L, and D cannot be, and there is no need to do so.\n",
    "\n",
    "2. Writing numerals that decrease from left to right represents addition of the numbers. For example, LX represents 50 + 10 = 60 and XVI represents 10 + 5 + 1 = 16.\n",
    "\n",
    "3. To write a number that otherwise would take repeating of a numeral four or more times, there is a subtraction rule. Writing a smaller numeral to the left of a larger numeral represents subtraction. For example, IV represents 5 - 1 = 4 and IX represents 10 - 1 = 9. To avoid ambiguity, the only pairs of numerals that use this subtraction rule are\n",
    "\n",
    "| Roman Numeral | Hindu-Arabic Equivalent |\n",
    "| ------------- | ----------------------- |\n",
    "| IV            | 4 = 5 - 1               |\n",
    "| IX            | 9 = 10 - 1              |\n",
    "| XL            | 40 = 50 - 10            |\n",
    "| XC            | 90 = 100 - 10           |\n",
    "| CD            | 400 = 500 - 100         |\n",
    "| CM            | 900 = 1000 - 100        |\n",
    "\n",
    "4. To represent larger numbers, a bar over a numeral means to multiply the number by 1000. For example, D represents 1000 x 500 = 500,000 and M represents 1000 x 1000 = 1,000,000, one million."
   ]
  },
  {
   "cell_type": "markdown",
   "metadata": {},
   "source": [
    "----"
   ]
  },
  {
   "cell_type": "code",
   "execution_count": 76,
   "metadata": {
    "collapsed": true
   },
   "outputs": [],
   "source": [
    "import time"
   ]
  },
  {
   "cell_type": "code",
   "execution_count": 77,
   "metadata": {},
   "outputs": [
    {
     "data": {
      "text/plain": [
       "15"
      ]
     },
     "execution_count": 77,
     "metadata": {},
     "output_type": "execute_result"
    }
   ],
   "source": [
    "s = 'IIXMXXMI2IVIVxx'\n",
    "s[-1]\n",
    "len(s)"
   ]
  },
  {
   "cell_type": "code",
   "execution_count": 95,
   "metadata": {},
   "outputs": [],
   "source": [
    "d = {'M':1000, 'D':500, 'C':100, 'L':50, 'X':10, 'V':5, 'I':1}\n",
    "\n",
    "class Solution(object):\n",
    " \n",
    "    def romanToInt(self, s):\n",
    "        \"\"\"\n",
    "        :type s: str\n",
    "        :rtype: int\n",
    "        \"\"\"  \n",
    "        result = d[s[-1]]\n",
    "        tmp_val = 0\n",
    "        for indx in range(len(s)-1):    \n",
    "            #print(s[indx], result)\n",
    "            val_indx = d[s[indx]]\n",
    "            val_indx_next = d[s[indx+1]]\n",
    "            if ((val_indx == val_indx_next)):     # duplication numbers\n",
    "                tmp_val += val_indx                    \n",
    "                if (indx == len(s)-2):\n",
    "                    print(tmp_val)\n",
    "                    result += tmp_val\n",
    "            else:                                 # larger: add, smaller: minus\n",
    "                if (val_indx > val_indx_next):     \n",
    "                    result += tmp_val + val_indx  \n",
    "                    tmp_val = 0\n",
    "                else:\n",
    "                    result -= tmp_val + val_indx\n",
    "                    tmp_val = 0\n",
    "            \n",
    "        return result\n",
    "             \n",
    " \n",
    "\n",
    "    # https://leetcode.com/problems/roman-to-integer/discuss/6542/4-lines-in-Python\n",
    "    def romanToInt2(self, s):\n",
    "        res, p = 0, 'I'\n",
    "        for c in s[::-1]:\n",
    "            res, p = res - d[c] if d[c] < d[p] else res + d[c], c\n",
    "        return res        \n",
    "\n",
    "         \n",
    " "
   ]
  },
  {
   "cell_type": "markdown",
   "metadata": {},
   "source": [
    "-----\n",
    "### Test :"
   ]
  },
  {
   "cell_type": "code",
   "execution_count": 96,
   "metadata": {},
   "outputs": [
    {
     "name": "stdout",
     "output_type": "stream",
     "text": [
      "1\n",
      "2017\n",
      "Time used: 0.0002529999999998367\n",
      "2017\n",
      "Time used: 0.00011199999999966792\n"
     ]
    }
   ],
   "source": [
    "if __name__ == '__main__':\n",
    "    s = 'MMXVII'\n",
    "    #--------------\n",
    "    start = time.clock()\n",
    "    \n",
    "    sln = Solution()\n",
    "    print(sln.romanToInt(s))\n",
    "    \n",
    "    elapsed = (time.clock() - start)\n",
    "    print(\"Time used:\",elapsed)\n",
    "\n",
    "    #--------------\n",
    "    start = time.clock()\n",
    "    \n",
    "    sln = Solution()\n",
    "    print(sln.romanToInt2(s))\n",
    "    \n",
    "    elapsed = (time.clock() - start)\n",
    "    print(\"Time used:\",elapsed) "
   ]
  },
  {
   "cell_type": "code",
   "execution_count": null,
   "metadata": {
    "collapsed": true
   },
   "outputs": [],
   "source": []
  }
 ],
 "metadata": {
  "kernelspec": {
   "display_name": "Python 3",
   "language": "python",
   "name": "python3"
  },
  "language_info": {
   "codemirror_mode": {
    "name": "ipython",
    "version": 3
   },
   "file_extension": ".py",
   "mimetype": "text/x-python",
   "name": "python",
   "nbconvert_exporter": "python",
   "pygments_lexer": "ipython3",
   "version": "3.6.2"
  }
 },
 "nbformat": 4,
 "nbformat_minor": 2
}
