{
 "cells": [
  {
   "cell_type": "markdown",
   "metadata": {},
   "source": [
    "# 7. Reverse Integer"
   ]
  },
  {
   "cell_type": "markdown",
   "metadata": {},
   "source": [
    "### Description\n",
    "Given a 32-bit signed integer, reverse digits of an integer.\n"
   ]
  },
  {
   "cell_type": "markdown",
   "metadata": {},
   "source": [
    "### Example：\n",
    "> ```\n",
    "> Input: -123\n",
    "> Output: -321\n",
    "> ```\n",
    "\n",
    "Note:\n",
    "Assume we are dealing with an environment which could only hold integers within the 32-bit signed integer range. For the purpose of this problem, assume that your function returns 0 when the reversed integer overflows."
   ]
  },
  {
   "cell_type": "markdown",
   "metadata": {},
   "source": [
    "----"
   ]
  },
  {
   "cell_type": "code",
   "execution_count": 4,
   "metadata": {
    "collapsed": true
   },
   "outputs": [],
   "source": [
    "import time"
   ]
  },
  {
   "cell_type": "code",
   "execution_count": 68,
   "metadata": {},
   "outputs": [],
   "source": [
    "class Solution(object):\n",
    " \n",
    "    def reverse(self, x):\n",
    "        \"\"\"\n",
    "        :type x: int\n",
    "        :rtype: int\n",
    "        \"\"\"\n",
    "        def int32_gen(x_in):\n",
    "            # int32 check\n",
    "            if x_in>pow(2,31)-1 or x_in<-pow(2,31):\n",
    "                return 0\n",
    "            else:\n",
    "                return x_in\n",
    "        \n",
    "        \n",
    "        x = int32_gen(x)\n",
    "       \n",
    "        # reverse by using string\n",
    "        x_str_new = ''\n",
    "        \n",
    "        if x>= 0 :\n",
    "            x_str = str(x)    \n",
    "            for indx in range(len(x_str)-1,-1,-1):\n",
    "                x_str_new += x_str[indx]\n",
    "\n",
    "            return int32_gen(int(x_str_new))\n",
    "        \n",
    "        else:\n",
    "            x_str = str(abs(x))\n",
    "            for indx in range(len(x_str)-1,-1,-1):\n",
    "                x_str_new += x_str[indx]\n",
    "\n",
    "            return int32_gen(-int(x_str_new))\n",
    " "
   ]
  },
  {
   "cell_type": "markdown",
   "metadata": {},
   "source": [
    "-----\n",
    "### Test :"
   ]
  },
  {
   "cell_type": "code",
   "execution_count": 69,
   "metadata": {},
   "outputs": [
    {
     "name": "stdout",
     "output_type": "stream",
     "text": [
      "0\n",
      "Time used: 0.00013800000000019352\n"
     ]
    }
   ],
   "source": [
    "if __name__ == '__main__':\n",
    "    x = 1534236469\n",
    "    #--------------\n",
    "    start = time.clock()\n",
    "    \n",
    "    sln = Solution()\n",
    "    print(sln.reverse(x))\n",
    "    \n",
    "    elapsed = (time.clock() - start)\n",
    "    print(\"Time used:\",elapsed)\n",
    "\n",
    " "
   ]
  },
  {
   "cell_type": "code",
   "execution_count": null,
   "metadata": {
    "collapsed": true
   },
   "outputs": [],
   "source": []
  }
 ],
 "metadata": {
  "kernelspec": {
   "display_name": "Python 3",
   "language": "python",
   "name": "python3"
  },
  "language_info": {
   "codemirror_mode": {
    "name": "ipython",
    "version": 3
   },
   "file_extension": ".py",
   "mimetype": "text/x-python",
   "name": "python",
   "nbconvert_exporter": "python",
   "pygments_lexer": "ipython3",
   "version": "3.6.2"
  }
 },
 "nbformat": 4,
 "nbformat_minor": 2
}
